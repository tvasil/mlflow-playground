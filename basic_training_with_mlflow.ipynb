{
 "cells": [
  {
   "cell_type": "code",
   "execution_count": 40,
   "metadata": {},
   "outputs": [],
   "source": [
    "import mlflow\n",
    "import os\n",
    "import warnings\n",
    "import yaml\n",
    "\n",
    "from so_tag_classifier_core import (text_prepare, binarize_ys, tokenize_and_stem, transform_y, _TAGS_TO_KEEP)\n",
    "\n",
    "import pandas as pd\n",
    "from sklearn.feature_extraction.text import TfidfVectorizer \n",
    "from sklearn.linear_model import LogisticRegression\n",
    "from sklearn.model_selection import train_test_split\n",
    "from sklearn.multioutput import ClassifierChain\n",
    "from sklearn.pipeline import Pipeline\n",
    "from sklearn.preprocessing import FunctionTransformer\n",
    "\n",
    "warnings.filterwarnings(\"ignore\")"
   ]
  },
  {
   "cell_type": "code",
   "execution_count": 46,
   "metadata": {},
   "outputs": [],
   "source": [
    "with open(\"config.yaml\") as f:\n",
    "    configs = yaml.safe_load(f)\n",
    "\n",
    "os.environ['MLFLOW_TRACKING_USERNAME'] = configs.get(\"MLFLOW_TRACKING_USERNAME\")\n",
    "os.environ['MLFLOW_TRACKING_PASSWORD'] = configs.get(\"MLFLOW_TRACKING_PASSWORD\")\n",
    "\n",
    "TRACKING_URI = configs.get(\"TRACKING_URI\")\n",
    "BUCKET = configs.get(\"BUCKET\")\n",
    "mlflow.set_tracking_uri(TRACKING_URI)\n",
    "mlflow.set_experiment('stackoverlow-classifier')\n",
    "\n",
    "mlflow.sklearn.autolog()"
   ]
  },
  {
   "cell_type": "code",
   "execution_count": 44,
   "metadata": {},
   "outputs": [],
   "source": [
    "def train(file: str):\n",
    "    df = pd.read_csv(file)\n",
    "    X_train, X_test, y_train, y_test = train_test_split(df['text'].values, \n",
    "                                                    df['tags'].values, \n",
    "                                                    test_size=0.2, \n",
    "                                                    random_state=42)\n",
    "    binarizer, y_train_binarized, y_test_binarized = binarize_ys(y_train, y_test)\n",
    "\n",
    "    estimators = [('preprocessor', FunctionTransformer(text_prepare, kw_args={'join_symbol': ' '})), \n",
    "              ('tfidf', TfidfVectorizer(tokenizer=tokenize_and_stem, \n",
    "                                        ngram_range=(1, 3), \n",
    "                                        max_df=0.9, \n",
    "                                        min_df=5,\n",
    "                                        norm='l2')),\n",
    "              ('clf', ClassifierChain(LogisticRegression(C=1.0, \n",
    "                                                         penalty='l1', \n",
    "                                                         dual=False, \n",
    "                                                         solver='liblinear'), \n",
    "                                      cv=3))\n",
    "             ]\n",
    "\n",
    "    training_pipe = Pipeline(estimators, verbose=True)\n",
    "    \n",
    "    with mlflow.start_run() as run:\n",
    "        training_pipe.fit(X_train, y_train_binarized)\n",
    "        print(\"Logged data and model in run: {}\".format(run.info.run_id))"
   ]
  },
  {
   "cell_type": "code",
   "execution_count": 45,
   "metadata": {},
   "outputs": [
    {
     "name": "stderr",
     "output_type": "stream",
     "text": [
      "2020/12/11 18:13:06 WARNING mlflow.sklearn.utils: Truncated the value of the key `steps`. Truncated value: `[('preprocessor', FunctionTransformer(func=<function text_prepare at 0x1277323b0>,\n",
      "                    kw_args={'join_symbol': ' '})), ('tfidf', TfidfVectorizer(max_df=0.9, min_df=5, ngram_range=(1, 3),\n",
      "                tokenizer=<function tokenize...`\n"
     ]
    },
    {
     "name": "stdout",
     "output_type": "stream",
     "text": [
      "[Pipeline] ...... (step 1 of 3) Processing preprocessor, total=   3.4s\n",
      "[Pipeline] ............. (step 2 of 3) Processing tfidf, total= 1.2min\n",
      "[Pipeline] ............... (step 3 of 3) Processing clf, total= 3.6min\n"
     ]
    },
    {
     "name": "stderr",
     "output_type": "stream",
     "text": [
      "2020/12/11 18:23:57 WARNING mlflow.sklearn.utils: Failed to autolog artifacts for Pipeline. Logging error: unhashable type: 'numpy.ndarray'\n"
     ]
    },
    {
     "name": "stdout",
     "output_type": "stream",
     "text": [
      "Logged data and model in run: 295c7087ed194ce098aa2b7a06cf9380\n"
     ]
    }
   ],
   "source": [
    "train(\"/Users/tania/tvasil/stackoverflow-topic-classifier/data/full_body_clean.csv\")"
   ]
  },
  {
   "cell_type": "code",
   "execution_count": null,
   "metadata": {},
   "outputs": [],
   "source": []
  }
 ],
 "metadata": {
  "kernelspec": {
   "display_name": "Python 3",
   "language": "python",
   "name": "python3"
  },
  "language_info": {
   "codemirror_mode": {
    "name": "ipython",
    "version": 3
   },
   "file_extension": ".py",
   "mimetype": "text/x-python",
   "name": "python",
   "nbconvert_exporter": "python",
   "pygments_lexer": "ipython3",
   "version": "3.7.9"
  }
 },
 "nbformat": 4,
 "nbformat_minor": 4
}
